{
 "cells": [
  {
   "cell_type": "markdown",
   "source": [
    "## Asteroid Collision"
   ],
   "metadata": {
    "collapsed": false
   }
  },
  {
   "cell_type": "markdown",
   "source": [
    "We are given an array asteroids of integers representing asteroids in a row.\n",
    "\n",
    "For each asteroid, the absolute value represents its size, and the sign represents its direction (positive meaning right, negative meaning left). Each asteroid moves at the same speed.\n",
    "\n",
    "Find out the state of the asteroids after all collisions. If two asteroids meet, the smaller one will explode. If both are the same size, both will explode. Two asteroids moving in the same direction will never meet.\n",
    "\n",
    "\n",
    "\n",
    "Example 1:\n",
    "\n",
    "Input: asteroids = [5,10,-5]\n",
    "Output: [5,10]\n",
    "Explanation: The 10 and -5 collide resulting in 10. The 5 and 10 never collide.\n",
    "Example 2:\n",
    "\n",
    "Input: asteroids = [8,-8]\n",
    "Output: []\n",
    "Explanation: The 8 and -8 collide exploding each other.\n",
    "Example 3:\n",
    "\n",
    "Input: asteroids = [10,2,-5]\n",
    "Output: [10]\n",
    "Explanation: The 2 and -5 collide resulting in -5. The 10 and -5 collide resulting in 10.\n",
    "\n",
    "\n",
    "Constraints:\n",
    "\n",
    "2 <= asteroids.length <= 104\n",
    "-1000 <= asteroids[i] <= 1000\n",
    "asteroids[i] != 0"
   ],
   "metadata": {
    "collapsed": false
   }
  },
  {
   "cell_type": "code",
   "execution_count": 1,
   "outputs": [],
   "source": [
    "def asteroidCollision(asteroids):\n",
    "    stack = []  # Initialize an empty stack to keep track of asteroids\n",
    "\n",
    "    for asteroid in asteroids:  # Iterate through each asteroid in the array\n",
    "        # Check for collisions when the current asteroid is moving left and the last asteroid in the stack is moving right\n",
    "        while stack and asteroid < 0 < stack[-1]:\n",
    "            # If the right-moving asteroid in the stack is smaller, it explodes\n",
    "            # break isnt added here as the left-moving stack continues going left after explosion of right-moving asteroid\n",
    "            if stack[-1] < -asteroid:\n",
    "                stack.pop()\n",
    "            # If the right-moving asteroid is larger, the current left-moving asteroid explodes\n",
    "            elif stack[-1] > -asteroid:\n",
    "                break\n",
    "            # If they are of the same size, both asteroids explode\n",
    "            elif stack[-1] == -asteroid:\n",
    "                stack.pop()\n",
    "                break\n",
    "        else:\n",
    "            # Add the current asteroid to the stack if no collision occurs\n",
    "            stack.append(asteroid)\n",
    "\n",
    "    return stack  # Return the state of the asteroids after all collisions\n"
   ],
   "metadata": {
    "collapsed": false,
    "ExecuteTime": {
     "end_time": "2024-01-13T11:21:39.440159400Z",
     "start_time": "2024-01-13T11:21:39.431651300Z"
    }
   }
  },
  {
   "cell_type": "code",
   "execution_count": 2,
   "outputs": [
    {
     "data": {
      "text/plain": "[5, 10]"
     },
     "execution_count": 2,
     "metadata": {},
     "output_type": "execute_result"
    }
   ],
   "source": [
    "asteroidCollision([5,10,-5])"
   ],
   "metadata": {
    "collapsed": false,
    "ExecuteTime": {
     "end_time": "2024-01-13T11:21:57.325401800Z",
     "start_time": "2024-01-13T11:21:57.304876800Z"
    }
   }
  },
  {
   "cell_type": "code",
   "execution_count": 3,
   "outputs": [
    {
     "data": {
      "text/plain": "[]"
     },
     "execution_count": 3,
     "metadata": {},
     "output_type": "execute_result"
    }
   ],
   "source": [
    "asteroidCollision([8,-8])"
   ],
   "metadata": {
    "collapsed": false,
    "ExecuteTime": {
     "end_time": "2024-01-13T11:22:09.686643300Z",
     "start_time": "2024-01-13T11:22:09.666014500Z"
    }
   }
  },
  {
   "cell_type": "code",
   "execution_count": 4,
   "outputs": [
    {
     "data": {
      "text/plain": "[10]"
     },
     "execution_count": 4,
     "metadata": {},
     "output_type": "execute_result"
    }
   ],
   "source": [
    "asteroidCollision([10,2,-5])"
   ],
   "metadata": {
    "collapsed": false,
    "ExecuteTime": {
     "end_time": "2024-01-13T11:22:28.795859700Z",
     "start_time": "2024-01-13T11:22:28.789860300Z"
    }
   }
  },
  {
   "cell_type": "code",
   "execution_count": 5,
   "outputs": [
    {
     "data": {
      "text/plain": "[-2, -1, 1, 2]"
     },
     "execution_count": 5,
     "metadata": {},
     "output_type": "execute_result"
    }
   ],
   "source": [
    "asteroidCollision([-2,-1,1,2])"
   ],
   "metadata": {
    "collapsed": false,
    "ExecuteTime": {
     "end_time": "2024-01-13T11:22:38.712974400Z",
     "start_time": "2024-01-13T11:22:38.709974300Z"
    }
   }
  },
  {
   "cell_type": "markdown",
   "source": [
    "### Time Complexity\n",
    "1. Outer For-Loop: The outer function iterates for each asteroid.So it runs n times\n",
    "2. Inner While-loop: In the worst-case scenario, the asteroid may collide with all the other asteroids in the stack nad move all the way towards left. But each time collision occurs, item is popped from the stack, so in the next collision there wont be as much collisions as there were before. Therefore, each asteroid is pushed to and popped from the stack at most once. Over the entire runtime of the algorithm, the total number of operations due to pushes and pops is O(n).\n",
    "3. Stack Operations: The push and pop operations are O(1) constant time operations.\n",
    "\n",
    "The overall time complexity of the function is determined by the number of iterations in the outer loop and the total number of push/pop operations in the inner loop. Since each asteroid is processed once and each stack operation is O(1), the overall time complexity of the asteroidCollision function is O(n), where n is the number of asteroids."
   ],
   "metadata": {
    "collapsed": false
   }
  },
  {
   "cell_type": "markdown",
   "source": [
    "### Space Complexity\n",
    "1. Stack Storage: The stack potentially stores a subset of the asteroids from the input array. In worst case, when there is no collision, the stack contains all the asteroids from the input. Thus, the stack can grow up to size n.\n",
    "2. Other Variables:  Other variables in the function, like the loop counters and temporary variables for comparison, use a constant amount of space and do not scale with the input size.\n",
    "\n",
    "The overall space complexity is O(n)"
   ],
   "metadata": {
    "collapsed": false
   }
  },
  {
   "cell_type": "code",
   "execution_count": null,
   "outputs": [],
   "source": [],
   "metadata": {
    "collapsed": false
   }
  }
 ],
 "metadata": {
  "kernelspec": {
   "display_name": "Python 3",
   "language": "python",
   "name": "python3"
  },
  "language_info": {
   "codemirror_mode": {
    "name": "ipython",
    "version": 2
   },
   "file_extension": ".py",
   "mimetype": "text/x-python",
   "name": "python",
   "nbconvert_exporter": "python",
   "pygments_lexer": "ipython2",
   "version": "2.7.6"
  }
 },
 "nbformat": 4,
 "nbformat_minor": 0
}
