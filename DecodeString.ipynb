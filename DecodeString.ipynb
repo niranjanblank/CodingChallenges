{
 "cells": [
  {
   "cell_type": "markdown",
   "source": [
    "## Decode String"
   ],
   "metadata": {
    "collapsed": false
   }
  },
  {
   "cell_type": "markdown",
   "source": [
    "Given an encoded string, return its decoded string.\n",
    "\n",
    "The encoding rule is: k[encoded_string], where the encoded_string inside the square brackets is being repeated exactly k times. Note that k is guaranteed to be a positive integer.\n",
    "\n",
    "You may assume that the input string is always valid; there are no extra white spaces, square brackets are well-formed, etc. Furthermore, you may assume that the original data does not contain any digits and that digits are only for those repeat numbers, k. For example, there will not be input like 3a or 2[4].\n",
    "\n",
    "The test cases are generated so that the length of the output will never exceed 105.\n",
    "\n",
    "\n",
    "\n",
    "Example 1:\n",
    "\n",
    "Input: s = \"3[a]2[bc]\"\n",
    "Output: \"aaabcbc\"\n",
    "Example 2:\n",
    "\n",
    "Input: s = \"3[a2[c]]\"\n",
    "Output: \"accaccacc\"\n",
    "Example 3:\n",
    "\n",
    "Input: s = \"2[abc]3[cd]ef\"\n",
    "Output: \"abcabccdcdcdef\"\n",
    "\n",
    "\n",
    "Constraints:\n",
    "\n",
    "1 <= s.length <= 30\n",
    "s consists of lowercase English letters, digits, and square brackets '[]'.\n",
    "s is guaranteed to be a valid input.\n",
    "All the integers in s are in the range [1, 300]."
   ],
   "metadata": {
    "collapsed": false
   }
  },
  {
   "cell_type": "code",
   "execution_count": 3,
   "outputs": [],
   "source": [
    "def decodeString(s):\n",
    "    stack = []  # Stack to keep track of previous strings and numbers\n",
    "    curr_string = \"\"  # Current string being formed\n",
    "    curr_num = 0  # Current number being formed\n",
    "\n",
    "    # Iterate through each character in the string\n",
    "    for c in s:\n",
    "        if c.isdigit():\n",
    "            # If the character is a digit, build the current number\n",
    "            # Multiple digits may form a number, hence multiply by 10 for each new digit\n",
    "            curr_num = curr_num * 10 + int(c)\n",
    "        elif c == \"[\":\n",
    "            # If '[' is encountered, it indicates the start of an encoded string\n",
    "            # Push the current string and number onto the stack\n",
    "            # This helps to return to the previous state after completing the inner string\n",
    "            stack.append((curr_string, curr_num))\n",
    "            # Reset the current string and number for the new encoded string\n",
    "            curr_string = \"\"\n",
    "            curr_num = 0\n",
    "        elif c == \"]\":\n",
    "            # If ']' is encountered, it indicates the end of an encoded string\n",
    "            # Pop the last string and number from the stack\n",
    "            # This restores the previous state (string before the '[')\n",
    "            prev_string, prev_num = stack.pop()\n",
    "            # Repeat the current string 'prev_num' times and append it to 'prev_string'\n",
    "            # This forms the new current string\n",
    "            curr_string = prev_string + prev_num * curr_string\n",
    "        else:\n",
    "            # For normal characters, append them to the current string\n",
    "            curr_string += c\n",
    "    # Return the fully decoded string\n",
    "    return curr_string"
   ],
   "metadata": {
    "collapsed": false,
    "ExecuteTime": {
     "end_time": "2024-01-15T11:29:04.831284700Z",
     "start_time": "2024-01-15T11:29:04.815285300Z"
    }
   }
  },
  {
   "cell_type": "code",
   "execution_count": 4,
   "outputs": [
    {
     "data": {
      "text/plain": "'aaabcbc'"
     },
     "execution_count": 4,
     "metadata": {},
     "output_type": "execute_result"
    }
   ],
   "source": [
    "decodeString(\"3[a]2[bc]\")"
   ],
   "metadata": {
    "collapsed": false,
    "ExecuteTime": {
     "end_time": "2024-01-15T11:29:05.315395700Z",
     "start_time": "2024-01-15T11:29:05.302389800Z"
    }
   }
  },
  {
   "cell_type": "code",
   "execution_count": 5,
   "outputs": [
    {
     "data": {
      "text/plain": "'accaccacc'"
     },
     "execution_count": 5,
     "metadata": {},
     "output_type": "execute_result"
    }
   ],
   "source": [
    "decodeString(\"3[a2[c]]\")"
   ],
   "metadata": {
    "collapsed": false,
    "ExecuteTime": {
     "end_time": "2024-01-15T11:29:21.772841700Z",
     "start_time": "2024-01-15T11:29:21.751833600Z"
    }
   }
  },
  {
   "cell_type": "code",
   "execution_count": 6,
   "outputs": [
    {
     "data": {
      "text/plain": "'abcabccdcdcdef'"
     },
     "execution_count": 6,
     "metadata": {},
     "output_type": "execute_result"
    }
   ],
   "source": [
    "decodeString(\"2[abc]3[cd]ef\")"
   ],
   "metadata": {
    "collapsed": false,
    "ExecuteTime": {
     "end_time": "2024-01-15T11:29:31.974210300Z",
     "start_time": "2024-01-15T11:29:31.958209800Z"
    }
   }
  },
  {
   "cell_type": "markdown",
   "source": [
    "### 1. Time Complexity\n",
    "* The function iterates through each character in the input string s once. If n is the length of the string, this iteration contributes O(n) to the time complexity.\n",
    "* For each character, the operations performed (checking if it's a digit, appending to a string, etc.) are constant time operations, i.e., O(1).\n",
    "* The most time-consuming operation inside the loop is the string concatenation when a ']' is encountered. In the worst case, this can lead to concatenating the entire string so far, which can take O(n) time in that iteration. However, this doesn't happen for every character, and the total amount of work done for string concatenations across the entire function is still O(n) because each character is added to curr_string once and moved from curr_string to prev_string at most once.\n",
    "\n",
    "Combining these factors, the overall time complexity of the function is O(n), where n is the length of the input string."
   ],
   "metadata": {
    "collapsed": false
   }
  },
  {
   "cell_type": "markdown",
   "source": [
    "### 2. Space Complexity\n",
    "* The primary extra space used in the function is the stack and the curr_string.\n",
    "* The stack can potentially grow as large as the number of nested brackets in the input string. In the worst case, this is proportional to the length of the input string n, contributing O(n) to the space complexity.\n",
    "* The curr_string also grows as the function iterates through the input string, and in the worst case, it can hold the entire decoded string, which also contributes O(n) to the space complexity.\n",
    "\n",
    "Therefore, the overall space complexity of the function is O(n), where n is the length of the input string."
   ],
   "metadata": {
    "collapsed": false
   }
  },
  {
   "cell_type": "code",
   "execution_count": null,
   "outputs": [],
   "source": [],
   "metadata": {
    "collapsed": false
   }
  }
 ],
 "metadata": {
  "kernelspec": {
   "display_name": "Python 3",
   "language": "python",
   "name": "python3"
  },
  "language_info": {
   "codemirror_mode": {
    "name": "ipython",
    "version": 2
   },
   "file_extension": ".py",
   "mimetype": "text/x-python",
   "name": "python",
   "nbconvert_exporter": "python",
   "pygments_lexer": "ipython2",
   "version": "2.7.6"
  }
 },
 "nbformat": 4,
 "nbformat_minor": 0
}
