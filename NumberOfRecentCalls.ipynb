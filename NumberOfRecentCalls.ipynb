{
 "cells": [
  {
   "cell_type": "markdown",
   "source": [
    "## Number of Recent Calls"
   ],
   "metadata": {
    "collapsed": false
   }
  },
  {
   "cell_type": "markdown",
   "source": [
    "You have a RecentCounter class which counts the number of recent requests within a certain time frame.\n",
    "\n",
    "Implement the RecentCounter class:\n",
    "\n",
    "RecentCounter() Initializes the counter with zero recent requests.\n",
    "int ping(int t) Adds a new request at time t, where t represents some time in milliseconds, and returns the number of requests that has happened in the past 3000 milliseconds (including the new request). Specifically, return the number of requests that have happened in the inclusive range [t - 3000, t].\n",
    "It is guaranteed that every call to ping uses a strictly larger value of t than the previous call.\n",
    "\n",
    "\n",
    "\n",
    "Example 1:\n",
    "\n",
    "Input\n",
    "[\"RecentCounter\", \"ping\", \"ping\", \"ping\", \"ping\"]\n",
    "[[], [1], [100], [3001], [3002]]\n",
    "Output\n",
    "[null, 1, 2, 3, 3]\n",
    "\n",
    "Explanation\n",
    "RecentCounter recentCounter = new RecentCounter();\n",
    "recentCounter.ping(1);     // requests = [1], range is [-2999,1], return 1\n",
    "recentCounter.ping(100);   // requests = [1, 100], range is [-2900,100], return 2\n",
    "recentCounter.ping(3001);  // requests = [1, 100, 3001], range is [1,3001], return 3\n",
    "recentCounter.ping(3002);  // requests = [1, 100, 3001, 3002], range is [2,3002], return 3\n",
    "\n",
    "\n",
    "Constraints:\n",
    "\n",
    "1 <= t <= 109\n",
    "Each test case will call ping with strictly increasing values of t.\n",
    "At most 10^4 calls will be made to ping."
   ],
   "metadata": {
    "collapsed": false
   }
  },
  {
   "cell_type": "code",
   "execution_count": 1,
   "outputs": [],
   "source": [
    "class RecentCounter:\n",
    "    def __init__(self):\n",
    "        # Initialize an empty list to store the timestamps of the requests\n",
    "        self.requests = []\n",
    "\n",
    "    def ping(self, t):\n",
    "        # Add the new request's timestamp to the list\n",
    "        self.requests.append(t)\n",
    "\n",
    "        # Remove requests that are older than 3000 milliseconds from the current request\n",
    "        while self.requests[0] < t - 3000:\n",
    "            self.requests.pop(0)\n",
    "\n",
    "        # Return the number of requests in the last 3000 milliseconds\n",
    "        return len(self.requests)"
   ],
   "metadata": {
    "collapsed": false,
    "ExecuteTime": {
     "end_time": "2024-01-17T12:21:34.878080100Z",
     "start_time": "2024-01-17T12:21:34.869268Z"
    }
   }
  },
  {
   "cell_type": "code",
   "execution_count": 2,
   "outputs": [],
   "source": [
    "# Example usage\n",
    "recent_counter = RecentCounter()\n",
    "outputs = [None]  # The first call to RecentCounter() doesn't return anything\n",
    "\n",
    "# Simulating the sequence of pings in the example\n",
    "inputs = [[], [1], [100], [3001], [3002]]\n",
    "for input in inputs[1:]:  # Skipping the first empty input as it's the initialization\n",
    "    outputs.append(recent_counter.ping(input[0]))"
   ],
   "metadata": {
    "collapsed": false,
    "ExecuteTime": {
     "end_time": "2024-01-17T12:21:39.724776700Z",
     "start_time": "2024-01-17T12:21:39.715377900Z"
    }
   }
  },
  {
   "cell_type": "code",
   "execution_count": 3,
   "outputs": [
    {
     "data": {
      "text/plain": "[None, 1, 2, 3, 3]"
     },
     "execution_count": 3,
     "metadata": {},
     "output_type": "execute_result"
    }
   ],
   "source": [
    "outputs"
   ],
   "metadata": {
    "collapsed": false,
    "ExecuteTime": {
     "end_time": "2024-01-17T12:21:43.478071Z",
     "start_time": "2024-01-17T12:21:43.466071300Z"
    }
   }
  },
  {
   "cell_type": "markdown",
   "source": [
    "### Time Complexity\n",
    "Appending a New Request: This is an O(1) operation.\n",
    "\n",
    "Removing Old Requests: Although this might seem like an O(N) operation in the worst case, due to the constraint of at most `10^4` calls and the fact that each element is added and removed at most once, the average time complexity over a series of calls remains O(1) on an amortized basis. This is because the total number of operations for adding and removing elements is bounded by a constant (10^4)."
   ],
   "metadata": {
    "collapsed": false
   }
  },
  {
   "cell_type": "markdown",
   "source": [
    "### Space Complexity\n",
    "Given the constraint that at most `10^4` calls will be made to ping, the requests list can hold at most `10^4` elements (since each call to ping might add one element, and elements older than 3000 milliseconds are removed). Therefore, the space complexity is O(10^4) or simply O(1) when considering big O notation, as it does not grow proportionally with the input size beyond this limit."
   ],
   "metadata": {
    "collapsed": false
   }
  },
  {
   "cell_type": "code",
   "execution_count": null,
   "outputs": [],
   "source": [],
   "metadata": {
    "collapsed": false
   }
  }
 ],
 "metadata": {
  "kernelspec": {
   "display_name": "Python 3",
   "language": "python",
   "name": "python3"
  },
  "language_info": {
   "codemirror_mode": {
    "name": "ipython",
    "version": 2
   },
   "file_extension": ".py",
   "mimetype": "text/x-python",
   "name": "python",
   "nbconvert_exporter": "python",
   "pygments_lexer": "ipython2",
   "version": "2.7.6"
  }
 },
 "nbformat": 4,
 "nbformat_minor": 0
}
