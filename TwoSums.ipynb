{
 "cells": [
  {
   "cell_type": "markdown",
   "source": [
    "## Two Sums"
   ],
   "metadata": {
    "collapsed": false
   }
  },
  {
   "cell_type": "markdown",
   "source": [
    "Given an array of integers nums and an integer target, return indices of the two numbers such that they add up to target.You may assume that each input would have exactly one solution, and you may not use the same element twice. You can return the answer in any order.\n",
    "Example 1:\n",
    "\n",
    "Input: nums = [2,7,11,15], target = 9\n",
    "Output: [0,1]\n",
    "Explanation: Because nums[0] + nums[1] == 9, we return [0, 1].\n",
    "Example 2:\n",
    "\n",
    "Input: nums = [3,2,4], target = 6\n",
    "Output: [1,2]\n",
    "Example 3:\n",
    "\n",
    "Input: nums = [3,3], target = 6\n",
    "Output: [0,1]\n",
    "\n",
    "\n",
    "Constraints:\n",
    "\n",
    "2 <= nums.length <= 104\n",
    "-109 <= nums[i] <= 109\n",
    "-109 <= target <= 109\n",
    "Only one valid answer exists."
   ],
   "metadata": {
    "collapsed": false
   }
  },
  {
   "cell_type": "markdown",
   "source": [
    "# Two Sum Algorithm\n",
    "\n",
    "The Two Sum algorithm is designed to find two numbers in an array that add up to a specific target number. It's a common problem in computer science, testing the ability to manipulate and traverse arrays efficiently.\n",
    "\n",
    "## Approach\n",
    "\n",
    "This solution uses a **single-pass hash table**. For each element in the array, the algorithm determines if there is a pair that equals the target by checking the complement (the difference between the target and the current element) against previously seen elements.\n",
    "\n",
    "### Time Complexity: O(n)\n",
    "\n",
    "Where `n` is the number of elements in the array.\n",
    "\n",
    "### Space Complexity: O(n)\n",
    "\n",
    "As we store at most `n` elements in the hash table.\n",
    "\n",
    "## Python Implementation"
   ],
   "metadata": {
    "collapsed": false
   }
  },
  {
   "cell_type": "code",
   "execution_count": 9,
   "outputs": [],
   "source": [
    "def twoSums(nums, target):\n",
    "    # Initialize a dictionary to store the potential solution elements.\n",
    "    solutions = {}\n",
    "\n",
    "    # Iterate through the list of numbers.\n",
    "    for i in range(len(nums)):\n",
    "        # Calculate the value that, when added to nums[i], equals the target.\n",
    "        answer = target - nums[i]\n",
    "\n",
    "        # Check if the calculated value is already in our solutions dictionary.\n",
    "        if answer in solutions:\n",
    "            # If it is, return the indices of the two numbers.\n",
    "            return [solutions[answer], i]\n",
    "\n",
    "        # Store the current number and its index in the solutions dictionary.\n",
    "        # This acts as a reference for future iterations.\n",
    "        solutions[nums[i]] = i"
   ],
   "metadata": {
    "collapsed": false,
    "ExecuteTime": {
     "end_time": "2024-01-11T10:58:21.517747200Z",
     "start_time": "2024-01-11T10:58:21.508339Z"
    }
   }
  },
  {
   "cell_type": "code",
   "execution_count": 8,
   "outputs": [
    {
     "data": {
      "text/plain": "[1, 2]"
     },
     "execution_count": 8,
     "metadata": {},
     "output_type": "execute_result"
    }
   ],
   "source": [
    "twoSums([3,2,4], 6)"
   ],
   "metadata": {
    "collapsed": false,
    "ExecuteTime": {
     "end_time": "2024-01-11T10:56:36.941572300Z",
     "start_time": "2024-01-11T10:56:36.927570900Z"
    }
   }
  },
  {
   "cell_type": "code",
   "execution_count": null,
   "outputs": [],
   "source": [],
   "metadata": {
    "collapsed": false
   }
  }
 ],
 "metadata": {
  "kernelspec": {
   "display_name": "Python 3",
   "language": "python",
   "name": "python3"
  },
  "language_info": {
   "codemirror_mode": {
    "name": "ipython",
    "version": 2
   },
   "file_extension": ".py",
   "mimetype": "text/x-python",
   "name": "python",
   "nbconvert_exporter": "python",
   "pygments_lexer": "ipython2",
   "version": "2.7.6"
  }
 },
 "nbformat": 4,
 "nbformat_minor": 0
}
