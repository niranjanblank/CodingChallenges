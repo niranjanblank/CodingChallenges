{
 "cells": [
  {
   "cell_type": "markdown",
   "source": [
    "## Removing Stars From a String"
   ],
   "metadata": {
    "collapsed": false
   }
  },
  {
   "cell_type": "markdown",
   "source": [
    "You are given a string s, which contains stars *.\n",
    "\n",
    "In one operation, you can:\n",
    "\n",
    "Choose a star in s.\n",
    "Remove the closest non-star character to its left, as well as remove the star itself.\n",
    "Return the string after all stars have been removed.\n",
    "\n",
    "Note:\n",
    "\n",
    "The input will be generated such that the operation is always possible.\n",
    "It can be shown that the resulting string will always be unique.\n",
    "\n",
    "\n",
    "Example 1:\n",
    "\n",
    "Input: s = \"leet**cod*e\"\n",
    "Output: \"lecoe\"\n",
    "Explanation: Performing the removals from left to right:\n",
    "- The closest character to the 1st star is 't' in \"leet**cod*e\". s becomes \"lee*cod*e\".\n",
    "- The closest character to the 2nd star is 'e' in \"lee*cod*e\". s becomes \"lecod*e\".\n",
    "- The closest character to the 3rd star is 'd' in \"lecod*e\". s becomes \"lecoe\".\n",
    "There are no more stars, so we return \"lecoe\".\n",
    "\n",
    "\n",
    "Example 2:\n",
    "\n",
    "Input: s = \"erase*****\"\n",
    "Output: \"\"\n",
    "Explanation: The entire string is removed, so we return an empty string.\n",
    "\n",
    "\n",
    "Constraints:\n",
    "\n",
    "1 <= s.length <= 105\n",
    "s consists of lowercase English letters and stars *.\n",
    "The operation above can be performed on s."
   ],
   "metadata": {
    "collapsed": false
   }
  },
  {
   "cell_type": "code",
   "execution_count": 3,
   "outputs": [],
   "source": [
    "def removeStars(s):\n",
    "    # initialize empty list which we consider to be stack in this case\n",
    "    output =[]\n",
    "    # iterate through each letter of the string\n",
    "    for letter in s:\n",
    "        # if * is found, remove the last element of the stack using pop\n",
    "        if letter == \"*\":\n",
    "            output.pop()\n",
    "            continue\n",
    "        # if * isnt found, add the current letter to the stack\n",
    "        output.append(letter)\n",
    "\n",
    "    # combine the characters of the output list(stack) to create a single string\n",
    "    return \"\".join(output)"
   ],
   "metadata": {
    "collapsed": false,
    "ExecuteTime": {
     "end_time": "2024-01-12T10:08:43.711408700Z",
     "start_time": "2024-01-12T10:08:43.702407700Z"
    }
   }
  },
  {
   "cell_type": "code",
   "execution_count": 4,
   "outputs": [
    {
     "data": {
      "text/plain": "'lecoe'"
     },
     "execution_count": 4,
     "metadata": {},
     "output_type": "execute_result"
    }
   ],
   "source": [
    "removeStars(\"leet**cod*e\")"
   ],
   "metadata": {
    "collapsed": false,
    "ExecuteTime": {
     "end_time": "2024-01-12T10:08:44.332595200Z",
     "start_time": "2024-01-12T10:08:44.329595300Z"
    }
   }
  },
  {
   "cell_type": "code",
   "execution_count": 5,
   "outputs": [
    {
     "data": {
      "text/plain": "''"
     },
     "execution_count": 5,
     "metadata": {},
     "output_type": "execute_result"
    }
   ],
   "source": [
    "removeStars(\"erase*****\")"
   ],
   "metadata": {
    "collapsed": false,
    "ExecuteTime": {
     "end_time": "2024-01-12T10:08:45.093785100Z",
     "start_time": "2024-01-12T10:08:45.082785500Z"
    }
   }
  },
  {
   "cell_type": "markdown",
   "source": [
    "### Time Complexity\n",
    "\n",
    "\n",
    "1. Iterating through the String: The function iterates over each character in the input string s. If the length of the string is n, this iteration happens n times.\n",
    "\n",
    "2. Operations Inside the Loop:\n",
    "\n",
    "    * Checking if a character is an asterisk (*) is an O(1) operation.\n",
    "    * Appending to the list (output.append()) is generally an O(1) operation.\n",
    "    * Popping from the list (output.pop()) is an O(1) operation.\n",
    "\n",
    "Since all operations inside the loop are constant time and the loop runs n times, the overall time complexity is O(n)."
   ],
   "metadata": {
    "collapsed": false
   }
  },
  {
   "cell_type": "markdown",
   "source": [
    "### Space Complexity\n",
    "\n",
    "1. Output List: The space complexity is mainly influenced by the output list. In the worst case, when there are no asterisks in the input string, the output list will contain all n characters of the input string. Therefore, the space complexity is O(n).\n",
    "\n",
    "2. Other Variables: The letter variable is just a reference to a character in the string and does not add significant space complexity.\n",
    "\n",
    "Thus, the overall space complexity of the function is O(n)."
   ],
   "metadata": {
    "collapsed": false
   }
  },
  {
   "cell_type": "code",
   "execution_count": null,
   "outputs": [],
   "source": [],
   "metadata": {
    "collapsed": false
   }
  }
 ],
 "metadata": {
  "kernelspec": {
   "display_name": "Python 3",
   "language": "python",
   "name": "python3"
  },
  "language_info": {
   "codemirror_mode": {
    "name": "ipython",
    "version": 2
   },
   "file_extension": ".py",
   "mimetype": "text/x-python",
   "name": "python",
   "nbconvert_exporter": "python",
   "pygments_lexer": "ipython2",
   "version": "2.7.6"
  }
 },
 "nbformat": 4,
 "nbformat_minor": 0
}
